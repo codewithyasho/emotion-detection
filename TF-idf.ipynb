{
 "cells": [
  {
   "cell_type": "code",
   "execution_count": 1,
   "id": "b72631a7",
   "metadata": {},
   "outputs": [],
   "source": [
    "from sklearn.feature_extraction.text import TfidfVectorizer"
   ]
  },
  {
   "cell_type": "code",
   "execution_count": 2,
   "id": "e9072bda",
   "metadata": {},
   "outputs": [],
   "source": [
    "document = [\n",
    "    \"I love programming in Python\",\n",
    "    \"Python is great for data science\",\n",
    "    \"Data science is an exciting field\",\n",
    "    \"I enjoy learning new programming languages\"\n",
    "]"
   ]
  },
  {
   "cell_type": "code",
   "execution_count": 3,
   "id": "4b2cb19f",
   "metadata": {},
   "outputs": [],
   "source": [
    "vectorizer = TfidfVectorizer()"
   ]
  },
  {
   "cell_type": "code",
   "execution_count": 4,
   "id": "2924b4f8",
   "metadata": {},
   "outputs": [],
   "source": [
    "x = vectorizer.fit_transform(document)"
   ]
  },
  {
   "cell_type": "code",
   "execution_count": 5,
   "id": "ac40e653",
   "metadata": {},
   "outputs": [
    {
     "name": "stdout",
     "output_type": "stream",
     "text": [
      "<Compressed Sparse Row sparse matrix of dtype 'float64'\n",
      "\twith 21 stored elements and shape (4, 16)>\n",
      "  Coords\tValues\n",
      "  (0, 11)\t0.5552826649411127\n",
      "  (0, 13)\t0.43779123108611473\n",
      "  (0, 7)\t0.5552826649411127\n",
      "  (0, 14)\t0.43779123108611473\n",
      "  (1, 14)\t0.3722248517590162\n",
      "  (1, 8)\t0.3722248517590162\n",
      "  (1, 6)\t0.47212002654617047\n",
      "  (1, 5)\t0.47212002654617047\n",
      "  (1, 1)\t0.3722248517590162\n",
      "  (1, 15)\t0.3722248517590162\n",
      "  (2, 8)\t0.3574550433419527\n",
      "  (2, 1)\t0.3574550433419527\n",
      "  (2, 15)\t0.3574550433419527\n",
      "  (2, 0)\t0.45338639737285463\n",
      "  (2, 3)\t0.45338639737285463\n",
      "  (2, 4)\t0.45338639737285463\n",
      "  (3, 13)\t0.3667390112974172\n",
      "  (3, 2)\t0.4651619335222394\n",
      "  (3, 10)\t0.4651619335222394\n",
      "  (3, 12)\t0.4651619335222394\n",
      "  (3, 9)\t0.4651619335222394\n"
     ]
    }
   ],
   "source": [
    "print(x)"
   ]
  },
  {
   "cell_type": "code",
   "execution_count": 6,
   "id": "5dc30518",
   "metadata": {},
   "outputs": [
    {
     "name": "stdout",
     "output_type": "stream",
     "text": [
      "Vocabulary =  ['an' 'data' 'enjoy' 'exciting' 'field' 'for' 'great' 'in' 'is'\n",
      " 'languages' 'learning' 'love' 'new' 'programming' 'python' 'science']\n"
     ]
    }
   ],
   "source": [
    "vocabulary = vectorizer.get_feature_names_out()\n",
    "print(\"Vocabulary = \", vocabulary)"
   ]
  },
  {
   "cell_type": "code",
   "execution_count": 7,
   "id": "57393ad9",
   "metadata": {},
   "outputs": [
    {
     "name": "stdout",
     "output_type": "stream",
     "text": [
      "Bag of Words = \n",
      " [[0.         0.         0.         0.         0.         0.\n",
      "  0.         0.55528266 0.         0.         0.         0.55528266\n",
      "  0.         0.43779123 0.43779123 0.        ]\n",
      " [0.         0.37222485 0.         0.         0.         0.47212003\n",
      "  0.47212003 0.         0.37222485 0.         0.         0.\n",
      "  0.         0.         0.37222485 0.37222485]\n",
      " [0.4533864  0.35745504 0.         0.4533864  0.4533864  0.\n",
      "  0.         0.         0.35745504 0.         0.         0.\n",
      "  0.         0.         0.         0.35745504]\n",
      " [0.         0.         0.46516193 0.         0.         0.\n",
      "  0.         0.         0.         0.46516193 0.46516193 0.\n",
      "  0.46516193 0.36673901 0.         0.        ]]\n"
     ]
    }
   ],
   "source": [
    "BOW = x.toarray()\n",
    "print(\"Bag of Words = \\n\", BOW)"
   ]
  },
  {
   "cell_type": "code",
   "execution_count": null,
   "id": "5c79d9a3",
   "metadata": {},
   "outputs": [],
   "source": []
  }
 ],
 "metadata": {
  "kernelspec": {
   "display_name": "Python 3",
   "language": "python",
   "name": "python3"
  },
  "language_info": {
   "codemirror_mode": {
    "name": "ipython",
    "version": 3
   },
   "file_extension": ".py",
   "mimetype": "text/x-python",
   "name": "python",
   "nbconvert_exporter": "python",
   "pygments_lexer": "ipython3",
   "version": "3.13.5"
  }
 },
 "nbformat": 4,
 "nbformat_minor": 5
}
