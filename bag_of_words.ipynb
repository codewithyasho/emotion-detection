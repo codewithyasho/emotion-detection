{
 "cells": [
  {
   "cell_type": "code",
   "execution_count": 1,
   "id": "b72631a7",
   "metadata": {},
   "outputs": [],
   "source": [
    "from sklearn.feature_extraction.text import CountVectorizer"
   ]
  },
  {
   "cell_type": "code",
   "execution_count": 2,
   "id": "e9072bda",
   "metadata": {},
   "outputs": [],
   "source": [
    "document = [\n",
    "    \"I love programming in Python\",\n",
    "    \"Python is great for data science\",\n",
    "    \"Data science is an exciting field\",\n",
    "    \"I enjoy learning new programming languages\"\n",
    "]"
   ]
  },
  {
   "cell_type": "code",
   "execution_count": 3,
   "id": "4b2cb19f",
   "metadata": {},
   "outputs": [],
   "source": [
    "vectorizer = CountVectorizer()"
   ]
  },
  {
   "cell_type": "code",
   "execution_count": 4,
   "id": "2924b4f8",
   "metadata": {},
   "outputs": [],
   "source": [
    "x = vectorizer.fit_transform(document)"
   ]
  },
  {
   "cell_type": "code",
   "execution_count": 5,
   "id": "ac40e653",
   "metadata": {},
   "outputs": [
    {
     "name": "stdout",
     "output_type": "stream",
     "text": [
      "<Compressed Sparse Row sparse matrix of dtype 'int64'\n",
      "\twith 21 stored elements and shape (4, 16)>\n",
      "  Coords\tValues\n",
      "  (0, 11)\t1\n",
      "  (0, 13)\t1\n",
      "  (0, 7)\t1\n",
      "  (0, 14)\t1\n",
      "  (1, 14)\t1\n",
      "  (1, 8)\t1\n",
      "  (1, 6)\t1\n",
      "  (1, 5)\t1\n",
      "  (1, 1)\t1\n",
      "  (1, 15)\t1\n",
      "  (2, 8)\t1\n",
      "  (2, 1)\t1\n",
      "  (2, 15)\t1\n",
      "  (2, 0)\t1\n",
      "  (2, 3)\t1\n",
      "  (2, 4)\t1\n",
      "  (3, 13)\t1\n",
      "  (3, 2)\t1\n",
      "  (3, 10)\t1\n",
      "  (3, 12)\t1\n",
      "  (3, 9)\t1\n"
     ]
    }
   ],
   "source": [
    "print(x)"
   ]
  },
  {
   "cell_type": "code",
   "execution_count": 6,
   "id": "5dc30518",
   "metadata": {},
   "outputs": [
    {
     "name": "stdout",
     "output_type": "stream",
     "text": [
      "Vocabulary =  ['an' 'data' 'enjoy' 'exciting' 'field' 'for' 'great' 'in' 'is'\n",
      " 'languages' 'learning' 'love' 'new' 'programming' 'python' 'science']\n"
     ]
    }
   ],
   "source": [
    "vocabulary = vectorizer.get_feature_names_out()\n",
    "print(\"Vocabulary = \", vocabulary)"
   ]
  },
  {
   "cell_type": "code",
   "execution_count": 8,
   "id": "57393ad9",
   "metadata": {},
   "outputs": [
    {
     "name": "stdout",
     "output_type": "stream",
     "text": [
      "Bag of Words = \n",
      " [[0 0 0 0 0 0 0 1 0 0 0 1 0 1 1 0]\n",
      " [0 1 0 0 0 1 1 0 1 0 0 0 0 0 1 1]\n",
      " [1 1 0 1 1 0 0 0 1 0 0 0 0 0 0 1]\n",
      " [0 0 1 0 0 0 0 0 0 1 1 0 1 1 0 0]]\n"
     ]
    }
   ],
   "source": [
    "BOW = x.toarray()\n",
    "print(\"Bag of Words = \\n\", BOW)"
   ]
  },
  {
   "cell_type": "code",
   "execution_count": null,
   "id": "5c79d9a3",
   "metadata": {},
   "outputs": [],
   "source": []
  }
 ],
 "metadata": {
  "kernelspec": {
   "display_name": "Python 3",
   "language": "python",
   "name": "python3"
  },
  "language_info": {
   "codemirror_mode": {
    "name": "ipython",
    "version": 3
   },
   "file_extension": ".py",
   "mimetype": "text/x-python",
   "name": "python",
   "nbconvert_exporter": "python",
   "pygments_lexer": "ipython3",
   "version": "3.13.5"
  }
 },
 "nbformat": 4,
 "nbformat_minor": 5
}
